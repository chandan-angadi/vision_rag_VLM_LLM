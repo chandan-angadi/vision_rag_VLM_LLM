{
 "cells": [
  {
   "cell_type": "code",
   "execution_count": 5,
   "metadata": {},
   "outputs": [
    {
     "name": "stdout",
     "output_type": "stream",
     "text": [
      "Model Response: The image presents a comprehensive flowchart illustrating the process of data science and machine learning development, from experimentation to testing and deployment. The chart is divided into several stages, each with its own set of components and activities.\n",
      "\n",
      "**Experimentation/Development/Testing Stage**\n",
      "\n",
      "*   **Data Analysis**: This stage involves collecting and analyzing raw data to identify patterns and trends.\n",
      "    *   Data sources: Various data sources such as databases, APIs, and web scraping\n",
      "    *   Data preprocessing: Cleaning, transforming, and formatting the data for analysis\n",
      "    *   Feature engineering: Extracting relevant features from the data to improve model performance\n",
      "*   **Model Training**: This stage involves training a machine learning model using the preprocessed data.\n",
      "    *   Model selection: Choosing an appropriate machine learning algorithm based on the problem type and data characteristics\n",
      "    *   Hyperparameter tuning: Adjusting the model's hyperparameters to optimize its performance\n",
      "    *   Model evaluation: Assessing the model's performance using metrics such as accuracy, precision, and recall\n",
      "\n",
      "**Production Stage**\n",
      "\n",
      "*   **Model Deployment**: This stage involves deploying the trained model into a production environment.\n",
      "    *   Model serving: Deploying the model in a scalable and efficient manner\n",
      "    *   API integration: Integrating the model with APIs to enable real-time predictions\n",
      "*   **Monitoring and Maintenance**: This stage involves monitoring the model's performance and making updates as needed.\n",
      "    *   Data quality checks: Verifying the accuracy and completeness of the data being fed into the model\n",
      "    *   Model retraining: Retraining the model periodically to ensure its continued performance\n",
      "\n",
      "**Components**\n",
      "\n",
      "*   **Source Code**: The source code for the machine learning model, including any necessary libraries or frameworks.\n",
      "*   **Model Training Data**: The dataset used to train the machine learning model.\n",
      "*   **Model Validation Data**: A subset of the training data used to evaluate the model's performance during development.\n",
      "*   **Production Environment**: The environment in which the trained model is deployed and serves predictions.\n",
      "\n",
      "**Activities**\n",
      "\n",
      "*   **Data Collection**: Gathering relevant data from various sources, including databases, APIs, and web scraping.\n",
      "*   **Data Preprocessing**: Cleaning, transforming, and formatting the collected data for analysis.\n",
      "*   **Model Selection**: Choosing an appropriate machine learning algorithm based on the problem type and data characteristics.\n",
      "*   **Hyperparameter Tuning**: Adjusting the model's hyperparameters to optimize its performance.\n",
      "*   **Model Evaluation**: Assessing the model's performance using metrics such as accuracy, precision, and recall.\n",
      "\n",
      "**Conclusion**\n",
      "\n",
      "The flowchart provides a comprehensive overview of the process of developing and deploying machine learning models. It highlights the importance of experimentation, testing, and deployment in ensuring the success of a project. By following this structured approach, data scientists can build robust and efficient models that meet their business needs.\n"
     ]
    }
   ],
   "source": [
    "import ollama\n",
    "\n",
    "image_path = 'data/block_diagram.png'  # Replace with your image path\n",
    "\n",
    "# Use Ollama to analyze the image with Llama 3.2-Vision\n",
    "response = ollama.chat(\n",
    "    model=\"llama3.2-vision\",\n",
    "    messages=[{\n",
    "      \"role\": \"user\",\n",
    "      \"content\": \"Analyze this technical documentation image in detail.\",\n",
    "      \"images\": [\"data/extracted_images/page_1_image_0.png\"]\n",
    "    }],\n",
    ")\n",
    "\n",
    "# Extract the model's response about the image\n",
    "cleaned_text = response['message']['content'].strip()\n",
    "print(f\"Model Response: {cleaned_text}\")"
   ]
  }
 ],
 "metadata": {
  "kernelspec": {
   "display_name": "harry",
   "language": "python",
   "name": "python3"
  },
  "language_info": {
   "codemirror_mode": {
    "name": "ipython",
    "version": 3
   },
   "file_extension": ".py",
   "mimetype": "text/x-python",
   "name": "python",
   "nbconvert_exporter": "python",
   "pygments_lexer": "ipython3",
   "version": "3.10.0"
  }
 },
 "nbformat": 4,
 "nbformat_minor": 2
}
